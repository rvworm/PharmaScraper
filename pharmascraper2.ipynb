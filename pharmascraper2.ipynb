{
 "cells": [
  {
   "cell_type": "markdown",
   "metadata": {},
   "source": [
    "### Importing dependancies"
   ]
  },
  {
   "cell_type": "code",
   "execution_count": 1,
   "metadata": {},
   "outputs": [],
   "source": [
    "import numpy as np\n",
    "import requests\n",
    "import pandas as pd\n",
    "from datetime import datetime, timedelta"
   ]
  },
  {
   "cell_type": "markdown",
   "metadata": {},
   "source": [
    "#### Setting url destination API and making request"
   ]
  },
  {
   "cell_type": "code",
   "execution_count": 2,
   "metadata": {},
   "outputs": [],
   "source": [
    "# Define the API endpoint URL\n",
    "url = \"https://www.reddit.com/r/depressionregimens/top/.json?limit=100&t=month\"\n",
    "\n",
    "# Add user agent header to avoid 429 error\n",
    "headers = {'User-Agent': 'Mozilla/5.0 (Windows NT 10.0; Win64; x64) AppleWebKit/537.36 (KHTML, like Gecko) Chrome/58.0.3029.110 Safari/537.3'}\n",
    "\n",
    "# Make the API request\n",
    "response = requests.get(url, headers=headers)\n",
    "\n",
    "# Check if the response was successful\n",
    "if response.status_code != 200:\n",
    "    raise ValueError(\"Failed to fetch posts: {}\".format(response.status_code))"
   ]
  },
  {
   "cell_type": "markdown",
   "metadata": {},
   "source": [
    "#### Parsing JSON response, storing retrieved data in 'posts_data'"
   ]
  },
  {
   "cell_type": "code",
   "execution_count": 3,
   "metadata": {},
   "outputs": [],
   "source": [
    "data = response.json()\n",
    "posts_data = []\n",
    "for post in data[\"data\"][\"children\"]:\n",
    "    post_title = post[\"data\"][\"title\"]\n",
    "    post_body = post[\"data\"][\"selftext\"]\n",
    "    user = post[\"data\"][\"author\"]\n",
    "    posts_data.append({\"user\": user, \"post_title\": post_title, \"post_body\": post_body})"
   ]
  },
  {
   "cell_type": "markdown",
   "metadata": {},
   "source": [
    "#### Saving posts_data as data frame 'df'"
   ]
  },
  {
   "cell_type": "code",
   "execution_count": 4,
   "metadata": {},
   "outputs": [],
   "source": [
    "df = pd.DataFrame(posts_data)\n",
    "df.to_excel('C:/Users/ryan_/OneDrive/School/Pharma/coding/data.xlsx', index=False)"
   ]
  },
  {
   "cell_type": "markdown",
   "metadata": {},
   "source": [
    "#### Importing Natural Language Toolkit to do detailed semantic analysis"
   ]
  },
  {
   "cell_type": "code",
   "execution_count": 6,
   "metadata": {
    "scrolled": false
   },
   "outputs": [
    {
     "name": "stderr",
     "output_type": "stream",
     "text": [
      "[nltk_data] Downloading package vader_lexicon to\n",
      "[nltk_data]     C:\\Users\\ryan_\\AppData\\Roaming\\nltk_data...\n",
      "[nltk_data]   Package vader_lexicon is already up-to-date!\n"
     ]
    }
   ],
   "source": [
    "import nltk\n",
    "from nltk.sentiment import SentimentIntensityAnalyzer\n",
    "\n",
    "#downloadibf the necessary resources for the SentimentIntensityAnalyzer\n",
    "nltk.download('vader_lexicon')\n",
    "\n",
    "# Initialize SentimentIntensityAnalyzer\n",
    "sia = SentimentIntensityAnalyzer()"
   ]
  },
  {
   "cell_type": "markdown",
   "metadata": {},
   "source": [
    "#### Defining sentiment analysis function"
   ]
  },
  {
   "cell_type": "code",
   "execution_count": 7,
   "metadata": {},
   "outputs": [],
   "source": [
    "def get_sentiment_scores(text):\n",
    "    scores = sia.polarity_scores(text)\n",
    "    return {'pos': scores['pos'], 'neg': scores['neg'], 'neu': scores['neu'], 'compound': scores['compound']}"
   ]
  },
  {
   "cell_type": "markdown",
   "metadata": {},
   "source": [
    "#### Applying function and storing scores to original df in new columns"
   ]
  },
  {
   "cell_type": "code",
   "execution_count": 8,
   "metadata": {},
   "outputs": [
    {
     "name": "stdout",
     "output_type": "stream",
     "text": [
      "                   user                                         post_title  \\\n",
      "0  Evening_Attention_45   Does anyone else get completely stuck/paralyzed?   \n",
      "1                quat1e  I tried group CBT about 8 years ago, and every...   \n",
      "2  Responsible-Dish-977  Exhaustive list of genes that affect Mental He...   \n",
      "3       Liberated051816  Study: Brain Serotonin Release Is Reduced In P...   \n",
      "4         spyderspyders  Associations between Melatonin, Neuroinflammat...   \n",
      "\n",
      "                                           post_body  pos    neg    neu  \\\n",
      "0  I find myself getting so stuck that I can’t ev...  0.0  0.000  1.000   \n",
      "1  I have been doing one-to-one CBT for a few wee...  0.0  0.083  0.917   \n",
      "2  This was one of the longest and most labor int...  0.0  0.091  0.909   \n",
      "3  This study used a new and more direct method t...  0.0  0.291  0.709   \n",
      "4                                                     0.0  0.291  0.709   \n",
      "\n",
      "   compound  \n",
      "0    0.0000  \n",
      "1   -0.2263  \n",
      "2   -0.1280  \n",
      "3   -0.5719  \n",
      "4   -0.5719  \n"
     ]
    }
   ],
   "source": [
    "df[['pos', 'neg', 'neu', 'compound']] = df['post_title'].apply(lambda x: pd.Series(get_sentiment_scores(x)))"
   ]
  },
  {
   "cell_type": "markdown",
   "metadata": {},
   "source": [
    "OpenAI API Key"
   ]
  },
  {
   "cell_type": "markdown",
   "metadata": {},
   "source": [
    "#### Importing OpenAI API"
   ]
  },
  {
   "cell_type": "code",
   "execution_count": 9,
   "metadata": {},
   "outputs": [],
   "source": [
    "import openai\n",
    "with open('openAI_apiKey.txt', 'r') as f:\n",
    "    api_key = f.read().strip()\n",
    "openai.api_key = api_key"
   ]
  },
  {
   "cell_type": "markdown",
   "metadata": {},
   "source": [
    "### Getting drug names/treatments discussed in the post body"
   ]
  },
  {
   "cell_type": "markdown",
   "metadata": {},
   "source": [
    "#### Defining function for getting drug name (retrieve_drugName)"
   ]
  },
  {
   "cell_type": "code",
   "execution_count": 10,
   "metadata": {},
   "outputs": [],
   "source": [
    "def retrieve_drugName(text):\n",
    "    prompt = (\n",
    "        f\"I want you to act as expert pharmaceutical research assistant. Identify the names of the drug or treatment that is the main focus of the following text. Your response must only be the names of drugs. If there are multiple drugs, list them in the order they are mentioned. If you are not sure, reply with 'not sure'. If it is not clear what drug is being discussed, reply 'N/A'. Do not respond with anything other then the names of drugs.: {text}\\n\")\n",
    "\n",
    "    # Make API call to OpenAI\n",
    "    response = openai.Completion.create(\n",
    "        engine=\"text-davinci-003\",\n",
    "        prompt=prompt,\n",
    "        max_tokens=100,\n",
    "        n=1,\n",
    "        stop=None,\n",
    "        temperature=0.1,\n",
    "    )\n",
    "\n",
    "    # Extract drug names from API response\n",
    "    output = response.choices[0].text.strip()\n",
    "    \n",
    "    # Return output\n",
    "    return output\n",
    "\n",
    "    drug_names = [word for word in output.split() if word.istitle()]\n",
    "\n",
    "    # Return drug names (if any)\n",
    "    return drug_names[0] if drug_names else None"
   ]
  },
  {
   "cell_type": "code",
   "execution_count": 11,
   "metadata": {},
   "outputs": [],
   "source": [
    "df['drug_name'] = df['post_body'].apply(retrieve_drugName)"
   ]
  },
  {
   "cell_type": "code",
   "execution_count": 12,
   "metadata": {},
   "outputs": [],
   "source": [
    "df['drug_name_title'] = df['post_title'].apply(retrieve_drugName)"
   ]
  },
  {
   "cell_type": "markdown",
   "metadata": {},
   "source": [
    "#### Filtering out any values where the drug name was not assessed with OpenAI"
   ]
  },
  {
   "cell_type": "code",
   "execution_count": 13,
   "metadata": {},
   "outputs": [],
   "source": [
    "df_filtered = df[~(((df['drug_name'].str.lower() == 'n/a') | (df['drug_name'].str.lower() == 'not sure') | (df['drug_name'].str.lower() == 'not sure.')) & ((df['drug_name_title'].str.lower() == 'n/a') | (df['drug_name_title'].str.lower() == 'not sure') | (df['drug_name_title'].str.lower() == 'not sure.')))]"
   ]
  },
  {
   "cell_type": "code",
   "execution_count": 15,
   "metadata": {},
   "outputs": [
    {
     "name": "stdout",
     "output_type": "stream",
     "text": [
      "Index(['user', 'post_title', 'post_body', 'pos', 'neg', 'neu', 'compound',\n",
      "       'drug_name_body', 'drug_name_title'],\n",
      "      dtype='object')\n"
     ]
    }
   ],
   "source": [
    "df_filtered = df_filtered.rename(columns={'drug_name': 'drug_name_body'})\n",
    "print(df_filtered.columns)"
   ]
  },
  {
   "cell_type": "markdown",
   "metadata": {},
   "source": [
    "### Creating single drug name from drug_name_title or drug_name_body"
   ]
  },
  {
   "cell_type": "code",
   "execution_count": 16,
   "metadata": {},
   "outputs": [],
   "source": [
    "def get_valid_value(row):\n",
    "    valid_values = [value.lower() for value in ['n/a', 'not sure', 'not sure.']]\n",
    "    if row['drug_name_title'].lower() not in valid_values:\n",
    "        return row['drug_name_title']\n",
    "    elif row['drug_name_body'].lower() not in valid_values:\n",
    "        return row['drug_name_body']\n",
    "    else:\n",
    "        return pd.np.nan"
   ]
  },
  {
   "cell_type": "code",
   "execution_count": 17,
   "metadata": {},
   "outputs": [
    {
     "name": "stdout",
     "output_type": "stream",
     "text": [
      "                    user                                         post_title  \\\n",
      "4          spyderspyders  Associations between Melatonin, Neuroinflammat...   \n",
      "7          purplebadger9  On top of my daily Lexapro, weekly Spravato, a...   \n",
      "10       depressedthotty  Am I just fkin broken? Why isn’t this working ...   \n",
      "12    allthethrowaway420  Have antidepressants actually ever worked for ...   \n",
      "13           iLiveOnFear  My experience with beating Depression (Solutio...   \n",
      "21            milkman246           Lexapro is working and it feels so great   \n",
      "22        CuriousBetsy69             do psychiatric drugs damage the brain?   \n",
      "24            farhad_666                              Proviron, Holy shit!!   \n",
      "25  Ill_Championship_571                     Accuracy of GeneSight testing?   \n",
      "26             nirman248  Why most pschyiatrist can't treat treatment re...   \n",
      "\n",
      "                                            post_body    pos    neg    neu  \\\n",
      "4                                                      0.000  0.291  0.709   \n",
      "7   Acute: This series of paintings was completed ...  0.042  0.108  0.849   \n",
      "10  I eat so healthy, exercise, do yoga, be mindfu...  0.000  0.256  0.744   \n",
      "12  I’ve met and read about lots of depressed peop...  0.000  0.000  1.000   \n",
      "13  Around a year or two ago, I \"beat\" depression ...  0.000  0.573  0.427   \n",
      "21  Hey everyone, just wanted to share my experien...  0.428  0.000  0.572   \n",
      "22  i feel fucking completely disabled from drug a...  0.000  0.390  0.610   \n",
      "24  I've had Anhedonia, depression for the last 6,...  0.000  0.677  0.323   \n",
      "25  I just received my results from GeneSight, and...  0.000  0.000  1.000   \n",
      "26                                                     0.000  0.531  0.469   \n",
      "\n",
      "    compound                                     drug_name_body  \\\n",
      "4    -0.5719  This study looks at the efficacy of combining ...   \n",
      "7    -0.4193                                          Not sure.   \n",
      "10   -0.4767                                  Lexapro, Seroquel   \n",
      "12    0.0000                                    Antidepressants   \n",
      "13   -0.7717  Bupropion (Wellbutrin), Benzos, SSRI's, GeneSi...   \n",
      "21    0.7384                                            Lexapro   \n",
      "22   -0.4939                                 Cymbalta, Not Sure   \n",
      "24   -0.6351                             Mesterolone (Proviron)   \n",
      "25    0.0000                                            Pristiq   \n",
      "26   -0.7859  This study examines the efficacy of combining ...   \n",
      "\n",
      "                drug_name_title  \\\n",
      "4                     Not sure.   \n",
      "7   Lexapro, Spravato, ECT, N/A   \n",
      "10                          N/A   \n",
      "12                     Not sure   \n",
      "13                          ECT   \n",
      "21                      Lexapro   \n",
      "22                     Not sure   \n",
      "24                     Proviron   \n",
      "25                          N/A   \n",
      "26                    Not sure.   \n",
      "\n",
      "                                            drug_name  \n",
      "4   This study looks at the efficacy of combining ...  \n",
      "7                         Lexapro, Spravato, ECT, N/A  \n",
      "10                                  Lexapro, Seroquel  \n",
      "12                                    Antidepressants  \n",
      "13                                                ECT  \n",
      "21                                            Lexapro  \n",
      "22                                 Cymbalta, Not Sure  \n",
      "24                                           Proviron  \n",
      "25                                            Pristiq  \n",
      "26  This study examines the efficacy of combining ...  \n"
     ]
    }
   ],
   "source": [
    "# Apply the lambda function to create the new column\n",
    "df_filtered['drug_name'] = df_filtered.apply(lambda row: get_valid_value(row), axis=1)"
   ]
  },
  {
   "cell_type": "markdown",
   "metadata": {},
   "source": [
    "### Identifying generic drug name equivalants"
   ]
  },
  {
   "cell_type": "code",
   "execution_count": 18,
   "metadata": {},
   "outputs": [],
   "source": [
    "# Define function to classify drug names\n",
    "def generic_drug(drug_name):\n",
    "    prompt = (\n",
    "        f\"I want you to act as expert pharmaceutical assistant. Identify the generic drug name from the drug in the prompt provided and provide it as your response - just the generic name, do not also include the brand name. If there are multiple drugs, list their classifications in the order they are mentioned. You response must only consist of the generic drug name for the drug given in the prompt. If there is no clear drug being discussed, reply 'N/A'. Do not respond with any brand names - note that Lexapro and Zoloft are brand names, find their generic equivanlent if prompted with them.: {drug_name}\\n\"\n",
    "    )\n",
    "\n",
    "    # Make API call to OpenAI\n",
    "    response = openai.Completion.create(\n",
    "        engine=\"text-davinci-003\",\n",
    "        prompt=prompt,\n",
    "        max_tokens=100,\n",
    "        n=1,\n",
    "        stop=None,\n",
    "        temperature=0.1,\n",
    "    )\n",
    "\n",
    "    # Extract drug class from API response\n",
    "    output = response.choices[0].text.strip()\n",
    "    drug_generic = output.split('\\n')[0]\n",
    "\n",
    "    # Return drug class\n",
    "    return drug_generic\n"
   ]
  },
  {
   "cell_type": "code",
   "execution_count": 19,
   "metadata": {},
   "outputs": [],
   "source": [
    "df_filtered['generic_name'] = df_filtered['drug_name'].apply(generic_drug)"
   ]
  },
  {
   "cell_type": "code",
   "execution_count": 20,
   "metadata": {},
   "outputs": [],
   "source": [
    "# print(df_filtered2.head(10))\n",
    "df_filtered2 = df_filtered.dropna(subset=['drug_name'])"
   ]
  },
  {
   "cell_type": "markdown",
   "metadata": {},
   "source": [
    "#### Filtering out n/a values"
   ]
  },
  {
   "cell_type": "code",
   "execution_count": 22,
   "metadata": {},
   "outputs": [],
   "source": [
    "df_filtered3 = df_filtered2.dropna(subset=['generic_name'], axis=0)\n",
    "df_filtered4 = df_filtered3[df_filtered3['generic_name'] != 'N/A']"
   ]
  },
  {
   "cell_type": "markdown",
   "metadata": {},
   "source": [
    "#### Creating count of unique mentions"
   ]
  },
  {
   "cell_type": "code",
   "execution_count": 24,
   "metadata": {},
   "outputs": [],
   "source": [
    "drug_count = {}\n",
    "\n",
    "for index, row in df_filtered4.iterrows():\n",
    "    drugs = row['generic_name'].split(\", \")  # assuming drug names are separated by comma and space\n",
    "    for drug in drugs:\n",
    "        drug = drug.split(\":\")[-1].strip().lower()  # get the drug name after the colon (if any) and convert to lowercase\n",
    "        if drug in drug_count:\n",
    "            drug_count[drug] += 1\n",
    "        else:\n",
    "            drug_count[drug] = 1"
   ]
  },
  {
   "cell_type": "markdown",
   "metadata": {},
   "source": [
    "#### Ranking drugs by count"
   ]
  },
  {
   "cell_type": "code",
   "execution_count": 25,
   "metadata": {},
   "outputs": [
    {
     "name": "stdout",
     "output_type": "stream",
     "text": [
      "                                         genetic_name  count\n",
      "0                                        escitalopram     15\n",
      "4                                          sertraline      9\n",
      "28                                         fluoxetine      6\n",
      "27                                          bupropion      6\n",
      "2                                                 n/a      6\n",
      "13                                        venlafaxine      5\n",
      "71                                        fluvoxamine      4\n",
      "36                                         citalopram      4\n",
      "8                                                          4\n",
      "68                                       aripiprazole      4\n",
      "22                                           ketamine      4\n",
      "65                                          buspirone      3\n",
      "16                                            lithium      3\n",
      "23                                        amphetamine      3\n",
      "35                                         paroxetine      2\n",
      "74                                         pregabalin      2\n",
      "75                                        lamotrigine      2\n",
      "5                                          duloxetine      2\n",
      "78                                   lisdexamfetamine      2\n",
      "24                                         clonazepam      2\n",
      "29                                    methylphenidate      2\n",
      "50                                  lithium carbonate      2\n",
      "19                                          trazodone      2\n",
      "7                                      desvenlafaxine      2\n",
      "11                                         trintellix      2\n",
      "37                                         olanzapine      2\n",
      "63                                       clomipramine      2\n",
      "66                                             solian      1\n",
      "67                                         selegiline      1\n",
      "60                                             reglan      1\n",
      "61                                      ciprofloxacin      1\n",
      "62                                           spravato      1\n",
      "59                        setmelanotide/bremelanotide      1\n",
      "58                                     antipsychotics      1\n",
      "69   pristiq (desvenlafaxine); snri; ssri (citalopram      1\n",
      "70  sertraline); lemborexant (dayvigo) (suvorexant...      1\n",
      "57                                        finasteride      1\n",
      "64                                      amitriptyline      1\n",
      "89  lamictal (lamotrigine); ads (selective seroton...      1\n",
      "72                                          modafinil      1\n",
      "73                                        armodafinil      1\n",
      "76                                           seroquel      1\n",
      "55                                   allopregnanolone      1\n",
      "77                                    benzodiazepines      1\n",
      "79                                  dextroamphetamine      1\n",
      "80                                        risperidone      1\n",
      "81                                   tranylcypromine.      1\n",
      "82                                         vilazodone      1\n",
      "83                                         lurasidone      1\n",
      "84                                        mirtazapine      1\n"
     ]
    }
   ],
   "source": [
    "# convert drug_count to a DataFrame and sort it by count\n",
    "ranked_drugs = pd.DataFrame(drug_count.items(), columns=['genetic_name', 'count']).sort_values(by='count', ascending=False)"
   ]
  },
  {
   "cell_type": "code",
   "execution_count": 26,
   "metadata": {},
   "outputs": [],
   "source": [
    "ranked_drugs['genetic_name'].replace(['N/A', '', 'n/a'], pd.NaT, inplace=True)\n",
    "ranked_drugs= ranked_drugs.dropna(subset=['genetic_name'])"
   ]
  },
  {
   "cell_type": "code",
   "execution_count": 27,
   "metadata": {},
   "outputs": [
    {
     "name": "stdout",
     "output_type": "stream",
     "text": [
      "    genetic_name  count     share\n",
      "0   escitalopram     15  0.096154\n",
      "4     sertraline      9  0.057692\n",
      "28    fluoxetine      6  0.038462\n",
      "27     bupropion      6  0.038462\n",
      "13   venlafaxine      5  0.032051\n",
      "71   fluvoxamine      4  0.025641\n",
      "36    citalopram      4  0.025641\n",
      "68  aripiprazole      4  0.025641\n",
      "22      ketamine      4  0.025641\n",
      "65     buspirone      3  0.019231\n"
     ]
    }
   ],
   "source": [
    "total_count = ranked_drugs['count'].sum()\n",
    "ranked_drugs['share'] = ranked_drugs['count'] / total_count"
   ]
  },
  {
   "cell_type": "markdown",
   "metadata": {},
   "source": [
    "### Creating drug specific data frames for each of the major competitors + ketamine "
   ]
  },
  {
   "cell_type": "code",
   "execution_count": 29,
   "metadata": {},
   "outputs": [
    {
     "name": "stderr",
     "output_type": "stream",
     "text": [
      "C:\\Users\\ryan_\\AppData\\Local\\Temp\\ipykernel_39640\\2837894275.py:8: FutureWarning: The frame.append method is deprecated and will be removed from pandas in a future version. Use pandas.concat instead.\n",
      "  escitalopram_df = escitalopram_df.append(row)\n",
      "C:\\Users\\ryan_\\AppData\\Local\\Temp\\ipykernel_39640\\2837894275.py:8: FutureWarning: The frame.append method is deprecated and will be removed from pandas in a future version. Use pandas.concat instead.\n",
      "  escitalopram_df = escitalopram_df.append(row)\n",
      "C:\\Users\\ryan_\\AppData\\Local\\Temp\\ipykernel_39640\\2837894275.py:8: FutureWarning: The frame.append method is deprecated and will be removed from pandas in a future version. Use pandas.concat instead.\n",
      "  escitalopram_df = escitalopram_df.append(row)\n",
      "C:\\Users\\ryan_\\AppData\\Local\\Temp\\ipykernel_39640\\2837894275.py:8: FutureWarning: The frame.append method is deprecated and will be removed from pandas in a future version. Use pandas.concat instead.\n",
      "  escitalopram_df = escitalopram_df.append(row)\n",
      "C:\\Users\\ryan_\\AppData\\Local\\Temp\\ipykernel_39640\\2837894275.py:8: FutureWarning: The frame.append method is deprecated and will be removed from pandas in a future version. Use pandas.concat instead.\n",
      "  escitalopram_df = escitalopram_df.append(row)\n",
      "C:\\Users\\ryan_\\AppData\\Local\\Temp\\ipykernel_39640\\2837894275.py:8: FutureWarning: The frame.append method is deprecated and will be removed from pandas in a future version. Use pandas.concat instead.\n",
      "  escitalopram_df = escitalopram_df.append(row)\n",
      "C:\\Users\\ryan_\\AppData\\Local\\Temp\\ipykernel_39640\\2837894275.py:8: FutureWarning: The frame.append method is deprecated and will be removed from pandas in a future version. Use pandas.concat instead.\n",
      "  escitalopram_df = escitalopram_df.append(row)\n",
      "C:\\Users\\ryan_\\AppData\\Local\\Temp\\ipykernel_39640\\2837894275.py:8: FutureWarning: The frame.append method is deprecated and will be removed from pandas in a future version. Use pandas.concat instead.\n",
      "  escitalopram_df = escitalopram_df.append(row)\n",
      "C:\\Users\\ryan_\\AppData\\Local\\Temp\\ipykernel_39640\\2837894275.py:8: FutureWarning: The frame.append method is deprecated and will be removed from pandas in a future version. Use pandas.concat instead.\n",
      "  escitalopram_df = escitalopram_df.append(row)\n",
      "C:\\Users\\ryan_\\AppData\\Local\\Temp\\ipykernel_39640\\2837894275.py:8: FutureWarning: The frame.append method is deprecated and will be removed from pandas in a future version. Use pandas.concat instead.\n",
      "  escitalopram_df = escitalopram_df.append(row)\n",
      "C:\\Users\\ryan_\\AppData\\Local\\Temp\\ipykernel_39640\\2837894275.py:8: FutureWarning: The frame.append method is deprecated and will be removed from pandas in a future version. Use pandas.concat instead.\n",
      "  escitalopram_df = escitalopram_df.append(row)\n",
      "C:\\Users\\ryan_\\AppData\\Local\\Temp\\ipykernel_39640\\2837894275.py:8: FutureWarning: The frame.append method is deprecated and will be removed from pandas in a future version. Use pandas.concat instead.\n",
      "  escitalopram_df = escitalopram_df.append(row)\n",
      "C:\\Users\\ryan_\\AppData\\Local\\Temp\\ipykernel_39640\\2837894275.py:8: FutureWarning: The frame.append method is deprecated and will be removed from pandas in a future version. Use pandas.concat instead.\n",
      "  escitalopram_df = escitalopram_df.append(row)\n",
      "C:\\Users\\ryan_\\AppData\\Local\\Temp\\ipykernel_39640\\2837894275.py:8: FutureWarning: The frame.append method is deprecated and will be removed from pandas in a future version. Use pandas.concat instead.\n",
      "  escitalopram_df = escitalopram_df.append(row)\n",
      "C:\\Users\\ryan_\\AppData\\Local\\Temp\\ipykernel_39640\\2837894275.py:8: FutureWarning: The frame.append method is deprecated and will be removed from pandas in a future version. Use pandas.concat instead.\n",
      "  escitalopram_df = escitalopram_df.append(row)\n"
     ]
    }
   ],
   "source": [
    "escitalopram_df = pd.DataFrame(columns=df_filtered3.columns)\n",
    "\n",
    "# Iterate through the rows of df_filtered3\n",
    "for index, row in df_filtered3.iterrows():\n",
    "    # Check if 'Bupropion' (case insensitive) is in the 'generic_name' column\n",
    "    if 'escitalopram' in str(row['generic_name']).lower():\n",
    "        # Append the row to bupropion_df\n",
    "        escitalopram_df = escitalopram_df.append(row)\n",
    "\n",
    "# Reset the index of bupropion_df\n",
    "escitalopram_df = escitalopram_df.reset_index(drop=True)"
   ]
  },
  {
   "cell_type": "code",
   "execution_count": 30,
   "metadata": {},
   "outputs": [
    {
     "name": "stderr",
     "output_type": "stream",
     "text": [
      "C:\\Users\\ryan_\\AppData\\Local\\Temp\\ipykernel_39640\\293645895.py:8: FutureWarning: The frame.append method is deprecated and will be removed from pandas in a future version. Use pandas.concat instead.\n",
      "  bupropion_df = bupropion_df.append(row)\n",
      "C:\\Users\\ryan_\\AppData\\Local\\Temp\\ipykernel_39640\\293645895.py:8: FutureWarning: The frame.append method is deprecated and will be removed from pandas in a future version. Use pandas.concat instead.\n",
      "  bupropion_df = bupropion_df.append(row)\n",
      "C:\\Users\\ryan_\\AppData\\Local\\Temp\\ipykernel_39640\\293645895.py:8: FutureWarning: The frame.append method is deprecated and will be removed from pandas in a future version. Use pandas.concat instead.\n",
      "  bupropion_df = bupropion_df.append(row)\n",
      "C:\\Users\\ryan_\\AppData\\Local\\Temp\\ipykernel_39640\\293645895.py:8: FutureWarning: The frame.append method is deprecated and will be removed from pandas in a future version. Use pandas.concat instead.\n",
      "  bupropion_df = bupropion_df.append(row)\n",
      "C:\\Users\\ryan_\\AppData\\Local\\Temp\\ipykernel_39640\\293645895.py:8: FutureWarning: The frame.append method is deprecated and will be removed from pandas in a future version. Use pandas.concat instead.\n",
      "  bupropion_df = bupropion_df.append(row)\n",
      "C:\\Users\\ryan_\\AppData\\Local\\Temp\\ipykernel_39640\\293645895.py:8: FutureWarning: The frame.append method is deprecated and will be removed from pandas in a future version. Use pandas.concat instead.\n",
      "  bupropion_df = bupropion_df.append(row)\n"
     ]
    }
   ],
   "source": [
    "bupropion_df = pd.DataFrame(columns=df_filtered3.columns)\n",
    "\n",
    "# Iterate through the rows of df_filtered3\n",
    "for index, row in df_filtered3.iterrows():\n",
    "    # Check if 'Bupropion' (case insensitive) is in the 'generic_name' column\n",
    "    if 'bupropion' in str(row['generic_name']).lower():\n",
    "        # Append the row to bupropion_df\n",
    "        bupropion_df = bupropion_df.append(row)\n",
    "\n",
    "# Reset the index of bupropion_df\n",
    "bupropion_df = bupropion_df.reset_index(drop=True)"
   ]
  },
  {
   "cell_type": "code",
   "execution_count": 31,
   "metadata": {},
   "outputs": [
    {
     "name": "stderr",
     "output_type": "stream",
     "text": [
      "C:\\Users\\ryan_\\AppData\\Local\\Temp\\ipykernel_39640\\315095891.py:8: FutureWarning: The frame.append method is deprecated and will be removed from pandas in a future version. Use pandas.concat instead.\n",
      "  sertraline_df = sertraline_df.append(row)\n",
      "C:\\Users\\ryan_\\AppData\\Local\\Temp\\ipykernel_39640\\315095891.py:8: FutureWarning: The frame.append method is deprecated and will be removed from pandas in a future version. Use pandas.concat instead.\n",
      "  sertraline_df = sertraline_df.append(row)\n",
      "C:\\Users\\ryan_\\AppData\\Local\\Temp\\ipykernel_39640\\315095891.py:8: FutureWarning: The frame.append method is deprecated and will be removed from pandas in a future version. Use pandas.concat instead.\n",
      "  sertraline_df = sertraline_df.append(row)\n",
      "C:\\Users\\ryan_\\AppData\\Local\\Temp\\ipykernel_39640\\315095891.py:8: FutureWarning: The frame.append method is deprecated and will be removed from pandas in a future version. Use pandas.concat instead.\n",
      "  sertraline_df = sertraline_df.append(row)\n",
      "C:\\Users\\ryan_\\AppData\\Local\\Temp\\ipykernel_39640\\315095891.py:8: FutureWarning: The frame.append method is deprecated and will be removed from pandas in a future version. Use pandas.concat instead.\n",
      "  sertraline_df = sertraline_df.append(row)\n",
      "C:\\Users\\ryan_\\AppData\\Local\\Temp\\ipykernel_39640\\315095891.py:8: FutureWarning: The frame.append method is deprecated and will be removed from pandas in a future version. Use pandas.concat instead.\n",
      "  sertraline_df = sertraline_df.append(row)\n",
      "C:\\Users\\ryan_\\AppData\\Local\\Temp\\ipykernel_39640\\315095891.py:8: FutureWarning: The frame.append method is deprecated and will be removed from pandas in a future version. Use pandas.concat instead.\n",
      "  sertraline_df = sertraline_df.append(row)\n",
      "C:\\Users\\ryan_\\AppData\\Local\\Temp\\ipykernel_39640\\315095891.py:8: FutureWarning: The frame.append method is deprecated and will be removed from pandas in a future version. Use pandas.concat instead.\n",
      "  sertraline_df = sertraline_df.append(row)\n",
      "C:\\Users\\ryan_\\AppData\\Local\\Temp\\ipykernel_39640\\315095891.py:8: FutureWarning: The frame.append method is deprecated and will be removed from pandas in a future version. Use pandas.concat instead.\n",
      "  sertraline_df = sertraline_df.append(row)\n",
      "C:\\Users\\ryan_\\AppData\\Local\\Temp\\ipykernel_39640\\315095891.py:8: FutureWarning: The frame.append method is deprecated and will be removed from pandas in a future version. Use pandas.concat instead.\n",
      "  sertraline_df = sertraline_df.append(row)\n"
     ]
    }
   ],
   "source": [
    "sertraline_df = pd.DataFrame(columns=df_filtered3.columns)\n",
    "\n",
    "# Iterate through the rows of df_filtered3\n",
    "for index, row in df_filtered3.iterrows():\n",
    "    # Check if 'Bupropion' (case insensitive) is in the 'generic_name' column\n",
    "    if 'sertraline' in str(row['generic_name']).lower():\n",
    "        # Append the row to bupropion_df\n",
    "        sertraline_df = sertraline_df.append(row)\n",
    "\n",
    "# Reset the index of bupropion_df\n",
    "sertraline_df = sertraline_df.reset_index(drop=True)"
   ]
  },
  {
   "cell_type": "code",
   "execution_count": 32,
   "metadata": {},
   "outputs": [
    {
     "name": "stderr",
     "output_type": "stream",
     "text": [
      "C:\\Users\\ryan_\\AppData\\Local\\Temp\\ipykernel_39640\\622303249.py:8: FutureWarning: The frame.append method is deprecated and will be removed from pandas in a future version. Use pandas.concat instead.\n",
      "  fluoxetine_df = fluoxetine_df.append(row)\n",
      "C:\\Users\\ryan_\\AppData\\Local\\Temp\\ipykernel_39640\\622303249.py:8: FutureWarning: The frame.append method is deprecated and will be removed from pandas in a future version. Use pandas.concat instead.\n",
      "  fluoxetine_df = fluoxetine_df.append(row)\n",
      "C:\\Users\\ryan_\\AppData\\Local\\Temp\\ipykernel_39640\\622303249.py:8: FutureWarning: The frame.append method is deprecated and will be removed from pandas in a future version. Use pandas.concat instead.\n",
      "  fluoxetine_df = fluoxetine_df.append(row)\n",
      "C:\\Users\\ryan_\\AppData\\Local\\Temp\\ipykernel_39640\\622303249.py:8: FutureWarning: The frame.append method is deprecated and will be removed from pandas in a future version. Use pandas.concat instead.\n",
      "  fluoxetine_df = fluoxetine_df.append(row)\n",
      "C:\\Users\\ryan_\\AppData\\Local\\Temp\\ipykernel_39640\\622303249.py:8: FutureWarning: The frame.append method is deprecated and will be removed from pandas in a future version. Use pandas.concat instead.\n",
      "  fluoxetine_df = fluoxetine_df.append(row)\n",
      "C:\\Users\\ryan_\\AppData\\Local\\Temp\\ipykernel_39640\\622303249.py:8: FutureWarning: The frame.append method is deprecated and will be removed from pandas in a future version. Use pandas.concat instead.\n",
      "  fluoxetine_df = fluoxetine_df.append(row)\n",
      "C:\\Users\\ryan_\\AppData\\Local\\Temp\\ipykernel_39640\\622303249.py:8: FutureWarning: The frame.append method is deprecated and will be removed from pandas in a future version. Use pandas.concat instead.\n",
      "  fluoxetine_df = fluoxetine_df.append(row)\n"
     ]
    }
   ],
   "source": [
    "fluoxetine_df = pd.DataFrame(columns=df_filtered3.columns)\n",
    "\n",
    "# Iterate through the rows of df_filtered3\n",
    "for index, row in df_filtered3.iterrows():\n",
    "    # Check if 'Bupropion' (case insensitive) is in the 'generic_name' column\n",
    "    if 'fluoxetine' in str(row['generic_name']).lower():\n",
    "        # Append the row to bupropion_df\n",
    "        fluoxetine_df = fluoxetine_df.append(row)\n",
    "\n",
    "# Reset the index of bupropion_df\n",
    "fluoxetine_df = fluoxetine_df.reset_index(drop=True)"
   ]
  },
  {
   "cell_type": "code",
   "execution_count": 33,
   "metadata": {},
   "outputs": [
    {
     "name": "stderr",
     "output_type": "stream",
     "text": [
      "C:\\Users\\ryan_\\AppData\\Local\\Temp\\ipykernel_39640\\622303249.py:8: FutureWarning: The frame.append method is deprecated and will be removed from pandas in a future version. Use pandas.concat instead.\n",
      "  fluoxetine_df = fluoxetine_df.append(row)\n",
      "C:\\Users\\ryan_\\AppData\\Local\\Temp\\ipykernel_39640\\622303249.py:8: FutureWarning: The frame.append method is deprecated and will be removed from pandas in a future version. Use pandas.concat instead.\n",
      "  fluoxetine_df = fluoxetine_df.append(row)\n",
      "C:\\Users\\ryan_\\AppData\\Local\\Temp\\ipykernel_39640\\622303249.py:8: FutureWarning: The frame.append method is deprecated and will be removed from pandas in a future version. Use pandas.concat instead.\n",
      "  fluoxetine_df = fluoxetine_df.append(row)\n",
      "C:\\Users\\ryan_\\AppData\\Local\\Temp\\ipykernel_39640\\622303249.py:8: FutureWarning: The frame.append method is deprecated and will be removed from pandas in a future version. Use pandas.concat instead.\n",
      "  fluoxetine_df = fluoxetine_df.append(row)\n",
      "C:\\Users\\ryan_\\AppData\\Local\\Temp\\ipykernel_39640\\622303249.py:8: FutureWarning: The frame.append method is deprecated and will be removed from pandas in a future version. Use pandas.concat instead.\n",
      "  fluoxetine_df = fluoxetine_df.append(row)\n",
      "C:\\Users\\ryan_\\AppData\\Local\\Temp\\ipykernel_39640\\622303249.py:8: FutureWarning: The frame.append method is deprecated and will be removed from pandas in a future version. Use pandas.concat instead.\n",
      "  fluoxetine_df = fluoxetine_df.append(row)\n",
      "C:\\Users\\ryan_\\AppData\\Local\\Temp\\ipykernel_39640\\622303249.py:8: FutureWarning: The frame.append method is deprecated and will be removed from pandas in a future version. Use pandas.concat instead.\n",
      "  fluoxetine_df = fluoxetine_df.append(row)\n"
     ]
    }
   ],
   "source": [
    "fluoxetine_df = pd.DataFrame(columns=df_filtered3.columns)\n",
    "\n",
    "# Iterate through the rows of df_filtered3\n",
    "for index, row in df_filtered3.iterrows():\n",
    "    # Check if 'Bupropion' (case insensitive) is in the 'generic_name' column\n",
    "    if 'fluoxetine' in str(row['generic_name']).lower():\n",
    "        # Append the row to bupropion_df\n",
    "        fluoxetine_df = fluoxetine_df.append(row)\n",
    "\n",
    "# Reset the index of bupropion_df\n",
    "fluoxetine_df = fluoxetine_df.reset_index(drop=True)"
   ]
  },
  {
   "cell_type": "code",
   "execution_count": 34,
   "metadata": {},
   "outputs": [
    {
     "name": "stderr",
     "output_type": "stream",
     "text": [
      "C:\\Users\\ryan_\\AppData\\Local\\Temp\\ipykernel_39640\\1633849483.py:8: FutureWarning: The frame.append method is deprecated and will be removed from pandas in a future version. Use pandas.concat instead.\n",
      "  ketamine_df = ketamine_df.append(row)\n",
      "C:\\Users\\ryan_\\AppData\\Local\\Temp\\ipykernel_39640\\1633849483.py:8: FutureWarning: The frame.append method is deprecated and will be removed from pandas in a future version. Use pandas.concat instead.\n",
      "  ketamine_df = ketamine_df.append(row)\n",
      "C:\\Users\\ryan_\\AppData\\Local\\Temp\\ipykernel_39640\\1633849483.py:8: FutureWarning: The frame.append method is deprecated and will be removed from pandas in a future version. Use pandas.concat instead.\n",
      "  ketamine_df = ketamine_df.append(row)\n",
      "C:\\Users\\ryan_\\AppData\\Local\\Temp\\ipykernel_39640\\1633849483.py:8: FutureWarning: The frame.append method is deprecated and will be removed from pandas in a future version. Use pandas.concat instead.\n",
      "  ketamine_df = ketamine_df.append(row)\n",
      "C:\\Users\\ryan_\\AppData\\Local\\Temp\\ipykernel_39640\\1633849483.py:8: FutureWarning: The frame.append method is deprecated and will be removed from pandas in a future version. Use pandas.concat instead.\n",
      "  ketamine_df = ketamine_df.append(row)\n"
     ]
    }
   ],
   "source": [
    "ketamine_df = pd.DataFrame(columns=df_filtered3.columns)\n",
    "\n",
    "# Iterate through the rows of df_filtered3\n",
    "for index, row in df_filtered3.iterrows():\n",
    "    # Check if 'Bupropion' (case insensitive) is in the 'generic_name' column\n",
    "    if 'ketamine' in str(row['generic_name']).lower():\n",
    "        # Append the row to bupropion_df\n",
    "        ketamine_df = ketamine_df.append(row)\n",
    "\n",
    "# Reset the index of bupropion_df\n",
    "ketamine_df = ketamine_df.reset_index(drop=True)"
   ]
  },
  {
   "cell_type": "code",
   "execution_count": 35,
   "metadata": {},
   "outputs": [
    {
     "name": "stderr",
     "output_type": "stream",
     "text": [
      "C:\\Users\\ryan_\\AppData\\Local\\Temp\\ipykernel_39640\\4038485475.py:6: FutureWarning: The frame.append method is deprecated and will be removed from pandas in a future version. Use pandas.concat instead.\n",
      "  citalopram_df = citalopram_df.append(row)\n",
      "C:\\Users\\ryan_\\AppData\\Local\\Temp\\ipykernel_39640\\4038485475.py:6: FutureWarning: The frame.append method is deprecated and will be removed from pandas in a future version. Use pandas.concat instead.\n",
      "  citalopram_df = citalopram_df.append(row)\n",
      "C:\\Users\\ryan_\\AppData\\Local\\Temp\\ipykernel_39640\\4038485475.py:6: FutureWarning: The frame.append method is deprecated and will be removed from pandas in a future version. Use pandas.concat instead.\n",
      "  citalopram_df = citalopram_df.append(row)\n",
      "C:\\Users\\ryan_\\AppData\\Local\\Temp\\ipykernel_39640\\4038485475.py:6: FutureWarning: The frame.append method is deprecated and will be removed from pandas in a future version. Use pandas.concat instead.\n",
      "  citalopram_df = citalopram_df.append(row)\n",
      "C:\\Users\\ryan_\\AppData\\Local\\Temp\\ipykernel_39640\\4038485475.py:6: FutureWarning: The frame.append method is deprecated and will be removed from pandas in a future version. Use pandas.concat instead.\n",
      "  citalopram_df = citalopram_df.append(row)\n",
      "C:\\Users\\ryan_\\AppData\\Local\\Temp\\ipykernel_39640\\4038485475.py:6: FutureWarning: The frame.append method is deprecated and will be removed from pandas in a future version. Use pandas.concat instead.\n",
      "  citalopram_df = citalopram_df.append(row)\n",
      "C:\\Users\\ryan_\\AppData\\Local\\Temp\\ipykernel_39640\\4038485475.py:6: FutureWarning: The frame.append method is deprecated and will be removed from pandas in a future version. Use pandas.concat instead.\n",
      "  citalopram_df = citalopram_df.append(row)\n",
      "C:\\Users\\ryan_\\AppData\\Local\\Temp\\ipykernel_39640\\4038485475.py:6: FutureWarning: The frame.append method is deprecated and will be removed from pandas in a future version. Use pandas.concat instead.\n",
      "  citalopram_df = citalopram_df.append(row)\n",
      "C:\\Users\\ryan_\\AppData\\Local\\Temp\\ipykernel_39640\\4038485475.py:6: FutureWarning: The frame.append method is deprecated and will be removed from pandas in a future version. Use pandas.concat instead.\n",
      "  citalopram_df = citalopram_df.append(row)\n",
      "C:\\Users\\ryan_\\AppData\\Local\\Temp\\ipykernel_39640\\4038485475.py:6: FutureWarning: The frame.append method is deprecated and will be removed from pandas in a future version. Use pandas.concat instead.\n",
      "  citalopram_df = citalopram_df.append(row)\n",
      "C:\\Users\\ryan_\\AppData\\Local\\Temp\\ipykernel_39640\\4038485475.py:6: FutureWarning: The frame.append method is deprecated and will be removed from pandas in a future version. Use pandas.concat instead.\n",
      "  citalopram_df = citalopram_df.append(row)\n",
      "C:\\Users\\ryan_\\AppData\\Local\\Temp\\ipykernel_39640\\4038485475.py:6: FutureWarning: The frame.append method is deprecated and will be removed from pandas in a future version. Use pandas.concat instead.\n",
      "  citalopram_df = citalopram_df.append(row)\n",
      "C:\\Users\\ryan_\\AppData\\Local\\Temp\\ipykernel_39640\\4038485475.py:6: FutureWarning: The frame.append method is deprecated and will be removed from pandas in a future version. Use pandas.concat instead.\n",
      "  citalopram_df = citalopram_df.append(row)\n",
      "C:\\Users\\ryan_\\AppData\\Local\\Temp\\ipykernel_39640\\4038485475.py:6: FutureWarning: The frame.append method is deprecated and will be removed from pandas in a future version. Use pandas.concat instead.\n",
      "  citalopram_df = citalopram_df.append(row)\n",
      "C:\\Users\\ryan_\\AppData\\Local\\Temp\\ipykernel_39640\\4038485475.py:6: FutureWarning: The frame.append method is deprecated and will be removed from pandas in a future version. Use pandas.concat instead.\n",
      "  citalopram_df = citalopram_df.append(row)\n",
      "C:\\Users\\ryan_\\AppData\\Local\\Temp\\ipykernel_39640\\4038485475.py:6: FutureWarning: The frame.append method is deprecated and will be removed from pandas in a future version. Use pandas.concat instead.\n",
      "  citalopram_df = citalopram_df.append(row)\n",
      "C:\\Users\\ryan_\\AppData\\Local\\Temp\\ipykernel_39640\\4038485475.py:6: FutureWarning: The frame.append method is deprecated and will be removed from pandas in a future version. Use pandas.concat instead.\n",
      "  citalopram_df = citalopram_df.append(row)\n"
     ]
    }
   ],
   "source": [
    "citalopram_df = pd.DataFrame(columns=df_filtered3.columns)\n",
    "\n",
    "for index, row in df_filtered3.iterrows():\n",
    "    if 'citalopram' in str(row['generic_name']).lower():\n",
    "        # Append the row to bupropion_df\n",
    "        citalopram_df = citalopram_df.append(row)\n",
    "citalopram_df = citalopram_df.reset_index(drop=True)"
   ]
  },
  {
   "cell_type": "markdown",
   "metadata": {},
   "source": [
    "### Summarizing the posts"
   ]
  },
  {
   "cell_type": "markdown",
   "metadata": {},
   "source": [
    "#### Defining function to summarize posts"
   ]
  },
  {
   "cell_type": "code",
   "execution_count": 36,
   "metadata": {},
   "outputs": [],
   "source": [
    "def summarize_text(text):\n",
    "    prompt = (\n",
    "        f\"I want you to act as natural language assistant specializing in pharmaceuticals. You will be given the body text of a reddit post, I want you to read the user's post and concisely summarize it to identify the user's primary complaint or concern. Your summary must be under 20 words. Do not start your response with 'the user is' or any variation of, just respond with the concern or complaint. Post: {text}\\n\")\n",
    "\n",
    "    # Make API call to OpenAI\n",
    "    response = openai.Completion.create(\n",
    "        engine=\"text-davinci-003\",\n",
    "        prompt=prompt,\n",
    "        max_tokens=100,\n",
    "        n=1,\n",
    "        stop=None,\n",
    "        temperature=0.1,\n",
    "    )\n",
    "\n",
    "    # Extract first 5 words from API response\n",
    "    output = response.choices[0].text.strip().split()\n",
    "    summary = ' '.join(output)\n",
    "\n",
    "    # Return summary\n",
    "    return summary"
   ]
  },
  {
   "cell_type": "markdown",
   "metadata": {},
   "source": [
    "#### Applying function to each of the drug specific data frames"
   ]
  },
  {
   "cell_type": "code",
   "execution_count": 37,
   "metadata": {},
   "outputs": [],
   "source": [
    "escitalopram_df['post_summary'] = escitalopram_df['post_body'].apply(summarize_text)"
   ]
  },
  {
   "cell_type": "code",
   "execution_count": 38,
   "metadata": {},
   "outputs": [],
   "source": [
    "bupropion_df['post_summary'] = bupropion_df['post_body'].apply(summarize_text)"
   ]
  },
  {
   "cell_type": "code",
   "execution_count": 39,
   "metadata": {},
   "outputs": [],
   "source": [
    "sertraline_df['post_summary'] = sertraline_df['post_body'].apply(summarize_text)"
   ]
  },
  {
   "cell_type": "code",
   "execution_count": 40,
   "metadata": {},
   "outputs": [],
   "source": [
    "fluoxetine_df['post_summary'] = fluoxetine_df['post_body'].apply(summarize_text)"
   ]
  },
  {
   "cell_type": "code",
   "execution_count": 41,
   "metadata": {},
   "outputs": [],
   "source": [
    "ketamine_df['post_summary'] = ketamine_df['post_body'].apply(summarize_text)"
   ]
  },
  {
   "cell_type": "code",
   "execution_count": 42,
   "metadata": {},
   "outputs": [],
   "source": [
    "citalopram_df['post_summary'] = citalopram_df['post_body'].apply(summarize_text)"
   ]
  },
  {
   "cell_type": "code",
   "execution_count": 43,
   "metadata": {},
   "outputs": [
    {
     "name": "stdout",
     "output_type": "stream",
     "text": [
      "0    Questioning if taking Wellbutrin XR at night i...\n",
      "1    User concerned about antidepressants dulling c...\n",
      "2    User's primary concern: Need for further study...\n",
      "3    User feels hopeless and unable to pursue softw...\n",
      "4    User is losing hope and seeking advice on what...\n",
      "5    User is seeking advice on what to try next for...\n",
      "Name: post_summary, dtype: object\n"
     ]
    }
   ],
   "source": [
    "print(bupropion_df['post_summary'])"
   ]
  },
  {
   "cell_type": "code",
   "execution_count": 44,
   "metadata": {},
   "outputs": [],
   "source": [
    "# Define the API endpoint URL\n",
    "url = \"https://www.reddit.com/r/psilocybintherapy/top/.json?limit=100&t=year\"\n",
    "\n",
    "# Add user agent header to avoid 429 error\n",
    "headers = {'User-Agent': 'Mozilla/5.0 (Windows NT 10.0; Win64; x64) AppleWebKit/537.36 (KHTML, like Gecko) Chrome/58.0.3029.110 Safari/537.3'}\n",
    "\n",
    "# Make the API request\n",
    "response = requests.get(url, headers=headers)\n",
    "\n",
    "# Check if the response was successful\n",
    "if response.status_code != 200:\n",
    "    raise ValueError(\"Failed to fetch posts: {}\".format(response.status_code))\n",
    "\n",
    "data = response.json()\n",
    "posts_data = []\n",
    "for post in data[\"data\"][\"children\"]:\n",
    "    post_title = post[\"data\"][\"title\"]\n",
    "    post_body = post[\"data\"][\"selftext\"]\n",
    "    user = post[\"data\"][\"author\"]\n",
    "    posts_data.append({\"user\": user, \"post_title\": post_title, \"post_body\": post_body})\n"
   ]
  },
  {
   "cell_type": "code",
   "execution_count": 45,
   "metadata": {},
   "outputs": [],
   "source": [
    "df_psil= pd.DataFrame(posts_data)\n",
    "df_psil.to_excel('C:/Users/ryan_/OneDrive/School/Pharma/coding/psil_data.xlsx', index=False)"
   ]
  },
  {
   "cell_type": "code",
   "execution_count": 47,
   "metadata": {},
   "outputs": [
    {
     "name": "stdout",
     "output_type": "stream",
     "text": [
      "                user                                         post_title  \\\n",
      "0    Ill-Pension-525  Janis Hughes is a stage IV cancer patient and ...   \n",
      "1       bluemoodfood                          Hope this is helpful! ✨🍄💊   \n",
      "2         HelpMePeez                    Welcome to r/PsilocybinTherapy!   \n",
      "3  SubtleWindsOregon  New, peer-reviewed, mid-stage trial found that...   \n",
      "4       Lady-vanilla  2nd psilocybin successful “self-directed thera...   \n",
      "\n",
      "                                           post_body    pos    neg    neu  \\\n",
      "0                                                     0.000  0.292  0.708   \n",
      "1                                                     0.666  0.000  0.334   \n",
      "2  This sub was created a while ago and quickly f...  0.622  0.000  0.378   \n",
      "3                                                     0.150  0.102  0.748   \n",
      "4  I believe that we need to celebrate our succes...  0.432  0.000  0.568   \n",
      "\n",
      "   compound  \n",
      "0   -0.8934  \n",
      "1    0.7177  \n",
      "2    0.5093  \n",
      "3    0.1779  \n",
      "4    0.5859  \n"
     ]
    }
   ],
   "source": [
    "df_psil[['pos', 'neg', 'neu', 'compound']] = df_psil['post_title'].apply(lambda x: pd.Series(get_sentiment_scores(x)))"
   ]
  },
  {
   "cell_type": "code",
   "execution_count": 49,
   "metadata": {},
   "outputs": [],
   "source": [
    "df_psil['post_summary'] = df_psil['post_body'].apply(summarize_text)"
   ]
  },
  {
   "cell_type": "code",
   "execution_count": 51,
   "metadata": {},
   "outputs": [],
   "source": [
    "def primary_use(text):\n",
    "    prompt = (\n",
    "        f\"I want you to act as natural language assistant specializing in pharmaceuticals. You will be given the body text of a reddit post, I want you to read the user's post and concisely summarize it to identify why the user is interested in psilocybin, and their experience if they have used it. Your summary must be under 20 words. Do not start the response with any introduction such as 'The user is', just cut to the summary. Please read the following post and provide your summary:\\n\\n{text}\\n\")\n",
    "\n",
    "    # Make API call to OpenAI\n",
    "    response = openai.Completion.create(\n",
    "        engine=\"text-davinci-003\",\n",
    "        prompt=prompt,\n",
    "        max_tokens=100,\n",
    "        n=1,\n",
    "        stop=None,\n",
    "        temperature=0.1,\n",
    "    )\n",
    "\n",
    "    # Extract first 5 words from API response\n",
    "    output = response.choices[0].text.strip().split()\n",
    "    summary = ' '.join(output)\n",
    "\n",
    "    # Return summary\n",
    "    return summary"
   ]
  },
  {
   "cell_type": "code",
   "execution_count": 52,
   "metadata": {},
   "outputs": [],
   "source": [
    "df_psil['primary_use'] = df_psil['post_body'].apply(primary_use)"
   ]
  },
  {
   "cell_type": "code",
   "execution_count": 54,
   "metadata": {},
   "outputs": [],
   "source": [
    "# Define the API endpoint URL\n",
    "url = \"https://www.reddit.com/r/psychedelictherapy/top/.json?limit=100&t=year\"\n",
    "\n",
    "# Add user agent header to avoid 429 error\n",
    "headers = {'User-Agent': 'Mozilla/5.0 (Windows NT 10.0; Win64; x64) AppleWebKit/537.36 (KHTML, like Gecko) Chrome/58.0.3029.110 Safari/537.3'}\n",
    "\n",
    "# Make the API request\n",
    "response = requests.get(url, headers=headers)\n",
    "\n",
    "# Check if the response was successful\n",
    "if response.status_code != 200:\n",
    "    raise ValueError(\"Failed to fetch posts: {}\".format(response.status_code))\n",
    "\n",
    "data = response.json()\n",
    "posts_data = []\n",
    "for post in data[\"data\"][\"children\"]:\n",
    "    post_title = post[\"data\"][\"title\"]\n",
    "    post_body = post[\"data\"][\"selftext\"]\n",
    "    user = post[\"data\"][\"author\"]\n",
    "    posts_data.append({\"user\": user, \"post_title\": post_title, \"post_body\": post_body})"
   ]
  },
  {
   "cell_type": "code",
   "execution_count": 55,
   "metadata": {},
   "outputs": [],
   "source": [
    "df_psych= pd.DataFrame(posts_data)\n",
    "df_psych.to_excel('C:/Users/ryan_/OneDrive/School/Pharma/coding/psych_data.xlsx', index=False)"
   ]
  },
  {
   "cell_type": "code",
   "execution_count": 57,
   "metadata": {},
   "outputs": [
    {
     "name": "stdout",
     "output_type": "stream",
     "text": [
      "            user                                         post_title  \\\n",
      "0  redditor01020  The governor of Maryland announced on Friday t...   \n",
      "1        shallah  Australia will allow prescription MDMA and mag...   \n",
      "2  redditor01020  Colorado voters have passed a ballot initiativ...   \n",
      "3         mjobby  “Forgive yourself for not knowing better at th...   \n",
      "4   Not_Not_Matt  Australia approves the therapeutic use of MDMA...   \n",
      "\n",
      "                                           post_body    pos    neg    neu  \\\n",
      "0                                                     0.092  0.200  0.708   \n",
      "1                                                     0.109  0.087  0.804   \n",
      "2                                                     0.070  0.000  0.930   \n",
      "3   \\n\\nJust liked the quote, felt it relevant he...  0.204  0.098  0.698   \n",
      "4                                                     0.153  0.000  0.847   \n",
      "\n",
      "   compound  \n",
      "0   -0.7351  \n",
      "1   -0.0772  \n",
      "2    0.2732  \n",
      "3    0.5565  \n",
      "4    0.4019  \n"
     ]
    }
   ],
   "source": [
    "df_psych[['pos', 'neg', 'neu', 'compound']] = df_psych['post_title'].apply(lambda x: pd.Series(get_sentiment_scores(x)))"
   ]
  },
  {
   "cell_type": "code",
   "execution_count": 58,
   "metadata": {},
   "outputs": [],
   "source": [
    "df_psych['drug_name_body'] = df_psych['post_body'].apply(retrieve_drugName)\n",
    "df_psych['drug_name_title'] = df_psych['post_title'].apply(retrieve_drugName)"
   ]
  },
  {
   "cell_type": "code",
   "execution_count": 59,
   "metadata": {},
   "outputs": [
    {
     "name": "stdout",
     "output_type": "stream",
     "text": [
      "                   user                                         post_title  \\\n",
      "0         redditor01020  The governor of Maryland announced on Friday t...   \n",
      "1               shallah  Australia will allow prescription MDMA and mag...   \n",
      "2         redditor01020  Colorado voters have passed a ballot initiativ...   \n",
      "3                mjobby  “Forgive yourself for not knowing better at th...   \n",
      "4          Not_Not_Matt  Australia approves the therapeutic use of MDMA...   \n",
      "5               shallah  MDMA-assisted therapy for PTSD show: MAPS PBC ...   \n",
      "6         redditor01020  Cory Booker And Rand Paul File Bill To Resched...   \n",
      "7            HaiyoHaiyo   Anyone else think this is fucked up advertising?   \n",
      "8               shallah  Oregon to Offer Magic Mushrooms for Psilocybin...   \n",
      "9   Affectionate-Ad6318  Clinical depression healed in a single self-gu...   \n",
      "10              lobesey  Spanish charity offering free, legal, therapeu...   \n",
      "11              shallah  In defiance of federal drug law, mushroom disp...   \n",
      "12              shallah  Psilocybin therapy is prompting states to reco...   \n",
      "13             chocazul  New Mexico legislators held a meeting to hear ...   \n",
      "14       XdurkerlurkerX  'How to Change Your Mind'- a Psychedelics docu...   \n",
      "15        ilovebeans345  60 days ago I posted about my trip that trigge...   \n",
      "16           noetica11y                                This post is wrong.   \n",
      "17              shallah  This New Study Found That Individuals With A H...   \n",
      "18              shallah  A Canadian psychedelic drug company has create...   \n",
      "19        redditor01020  Prince Harry says he’s used psychedelics to he...   \n",
      "\n",
      "                                            post_body    pos    neg    neu  \\\n",
      "0                                                      0.092  0.200  0.708   \n",
      "1                                                      0.109  0.087  0.804   \n",
      "2                                                      0.070  0.000  0.930   \n",
      "3    \\n\\nJust liked the quote, felt it relevant he...  0.204  0.098  0.698   \n",
      "4                                                      0.153  0.000  0.847   \n",
      "5                                                      0.000  0.000  1.000   \n",
      "6                                                      0.000  0.000  1.000   \n",
      "7                                                      0.000  0.386  0.614   \n",
      "8                                                      0.000  0.071  0.929   \n",
      "9   Hello fellow humans,\\n\\nI feel it's important ...  0.000  0.291  0.709   \n",
      "10  Based in Ronda, \"city of dreams\", in the provi...  0.432  0.000  0.568   \n",
      "11                                                     0.000  0.000  1.000   \n",
      "12                                                     0.000  0.000  1.000   \n",
      "13                                                     0.122  0.000  0.878   \n",
      "14                                                     0.000  0.000  1.000   \n",
      "15  I have fantasized about death since I was 10 y...  0.130  0.131  0.739   \n",
      "16  I think I’ve found my Everything Bagel.\\n\\nI’v...  0.000  0.508  0.492   \n",
      "17                                                     0.000  0.399  0.601   \n",
      "18                                                     0.200  0.000  0.800   \n",
      "19                                                     0.160  0.189  0.651   \n",
      "\n",
      "    compound                                     drug_name_body  \\\n",
      "0    -0.7351  This study is looking at the effects of combin...   \n",
      "1    -0.0772  This study examines the efficacy of combining ...   \n",
      "2     0.2732  This study is looking at the effectiveness of ...   \n",
      "3     0.5565                                                N/A   \n",
      "4     0.4019  This study examines the efficacy of combining ...   \n",
      "5     0.0000  This study examines the efficacy of combining ...   \n",
      "6     0.0000  This study examines the efficacy of combining ...   \n",
      "7    -0.6597  The study found that patients taking a combina...   \n",
      "8    -0.4588  This study examines the efficacy of a combinat...   \n",
      "9    -0.5719                                           Not sure   \n",
      "10    0.7650                                                N/A   \n",
      "11    0.0000  The study found that the combination of drug A...   \n",
      "12    0.0000  The study compared the efficacy of drug A and ...   \n",
      "13    0.5574  This study examines the efficacy of combining ...   \n",
      "14    0.0000  This study examines the efficacy of combining ...   \n",
      "15   -0.0087                                                N/A   \n",
      "16   -0.4767                                                N/A   \n",
      "17   -0.9231  This study examines the effects of combining t...   \n",
      "18    0.2500  The study found that the combination of drug A...   \n",
      "19   -0.1280  This study examines the efficacy of combining ...   \n",
      "\n",
      "               drug_name_title  \n",
      "0   Psilocybin, MDMA, Ketamine  \n",
      "1             MDMA, Psilocybin  \n",
      "2                          N/A  \n",
      "3                          N/A  \n",
      "4             MDMA, Psilocybin  \n",
      "5               MAPS PBC, MDMA  \n",
      "6                          N/A  \n",
      "7                          N/A  \n",
      "8                   Psilocybin  \n",
      "9                     LSD, IFS  \n",
      "10                         N/A  \n",
      "11                    Not sure  \n",
      "12                  Psilocybin  \n",
      "13                  Psilocybin  \n",
      "14                   Not sure.  \n",
      "15                   Not sure.  \n",
      "16                         N/A  \n",
      "17                    Ketamine  \n",
      "18                   Ayahuasca  \n",
      "19                    Not sure  \n"
     ]
    }
   ],
   "source": [
    "print(df_psych.head(20))"
   ]
  },
  {
   "cell_type": "code",
   "execution_count": 60,
   "metadata": {},
   "outputs": [],
   "source": [
    "drug_count = {}\n",
    "\n",
    "for index, row in df_psych.iterrows():\n",
    "    drugs = row['drug_name_title'].split(\", \")  # assuming drug names are separated by comma and space\n",
    "    for drug in drugs:\n",
    "        drug = drug.split(\":\")[-1].strip().lower()  # get the drug name after the colon (if any) and convert to lowercase\n",
    "        if drug in drug_count:\n",
    "            drug_count[drug] += 1\n",
    "        else:\n",
    "            drug_count[drug] = 1"
   ]
  },
  {
   "cell_type": "code",
   "execution_count": 61,
   "metadata": {},
   "outputs": [
    {
     "name": "stdout",
     "output_type": "stream",
     "text": [
      "                   drug_name_title  count\n",
      "7                         not sure     34\n",
      "3                              n/a     25\n",
      "0                       psilocybin     19\n",
      "2                         ketamine     10\n",
      "1                             mdma      9\n",
      "8                        not sure.      7\n",
      "5                              lsd      2\n",
      "4                         maps pbc      1\n",
      "6                              ifs      1\n",
      "9                        ayahuasca      1\n",
      "10                         ecstasy      1\n",
      "11                    talk therapy      1\n",
      "12  psychedelic-assisted therapies      1\n",
      "13         stellate ganglion block      1\n"
     ]
    }
   ],
   "source": [
    "ranked_psych = pd.DataFrame(drug_count.items(), columns=['drug_name_title', 'count']).sort_values(by='count', ascending=False)\n",
    "print(ranked_psych.head(50))"
   ]
  },
  {
   "cell_type": "code",
   "execution_count": 62,
   "metadata": {},
   "outputs": [],
   "source": [
    "ranked_psych['drug_name_title'].replace(['N/A', '', 'n/a', 'not sure.', 'not sure', 'psychedelic-assisted therapies','talk therapy'], pd.NaT, inplace=True)\n",
    "ranked_psych= ranked_psych.dropna(subset=['drug_name_title'])"
   ]
  },
  {
   "cell_type": "code",
   "execution_count": 63,
   "metadata": {},
   "outputs": [
    {
     "name": "stdout",
     "output_type": "stream",
     "text": [
      "  drug_name_title  count\n",
      "0      psilocybin     19\n",
      "2        ketamine     10\n",
      "1            mdma      9\n",
      "5             lsd      2\n",
      "4        maps pbc      1\n"
     ]
    }
   ],
   "source": [
    "print(ranked_psych.head())"
   ]
  },
  {
   "cell_type": "code",
   "execution_count": 64,
   "metadata": {},
   "outputs": [
    {
     "name": "stdout",
     "output_type": "stream",
     "text": [
      "            drug_name_title  count     share\n",
      "0                psilocybin     19  0.422222\n",
      "2                  ketamine     10  0.222222\n",
      "1                      mdma      9  0.200000\n",
      "5                       lsd      2  0.044444\n",
      "4                  maps pbc      1  0.022222\n",
      "6                       ifs      1  0.022222\n",
      "9                 ayahuasca      1  0.022222\n",
      "10                  ecstasy      1  0.022222\n",
      "13  stellate ganglion block      1  0.022222\n"
     ]
    }
   ],
   "source": [
    "total_count = ranked_psych['count'].sum()\n",
    "ranked_psych['share'] = ranked_psych['count'] / total_count\n",
    "print(ranked_psych.head(20))"
   ]
  },
  {
   "cell_type": "code",
   "execution_count": 66,
   "metadata": {},
   "outputs": [
    {
     "name": "stderr",
     "output_type": "stream",
     "text": [
      "C:\\Users\\ryan_\\AppData\\Local\\Temp\\ipykernel_39640\\2383495805.py:17: FutureWarning: save is not part of the public API, usage can give unexpected results and will be removed in a future version\n",
      "  writer.save()\n"
     ]
    }
   ],
   "source": [
    "# create an ExcelWriter object and specify the file path\n",
    "with pd.ExcelWriter('social_listening.xlsx') as writer:\n",
    "\n",
    "    # write each dataframe to a different sheet ien the Excel file\n",
    "    ranked_drugs.to_excel(writer, sheet_name='Drug Mention Shares')\n",
    "    ranked_psych.to_excel(writer, sheet_name='Psychadelic Mention Shares')\n",
    "    escitalopram_df.to_excel(writer, sheet_name='Escitalopram Summary', index=False)\n",
    "    bupropion_df.to_excel(writer, sheet_name='Bupropion Summary', index=False)\n",
    "    sertraline_df.to_excel(writer, sheet_name='Sertraline Summary')    \n",
    "    fluoxetine_df.to_excel(writer, sheet_name='Fluoxetine Summary', index=False)\n",
    "    citalopram_df.to_excel(writer, sheet_name='Citalopram Summary', index=False)\n",
    "    ketamine_df.to_excel(writer, sheet_name='Ketamine Summary', index=False)\n",
    "    df_filtered4.to_excel(writer, sheet_name='Antidepressant posts', index=False)\n",
    "    df_psil.to_excel(writer, sheet_name='Psilocybin posts', index=False)\n",
    "\n",
    "    # close the writer object\n",
    "    writer.save()"
   ]
  },
  {
   "cell_type": "code",
   "execution_count": null,
   "metadata": {},
   "outputs": [],
   "source": []
  },
  {
   "cell_type": "code",
   "execution_count": null,
   "metadata": {},
   "outputs": [],
   "source": []
  },
  {
   "cell_type": "code",
   "execution_count": null,
   "metadata": {},
   "outputs": [],
   "source": []
  },
  {
   "cell_type": "code",
   "execution_count": null,
   "metadata": {},
   "outputs": [],
   "source": []
  },
  {
   "cell_type": "code",
   "execution_count": null,
   "metadata": {},
   "outputs": [],
   "source": []
  },
  {
   "cell_type": "code",
   "execution_count": null,
   "metadata": {},
   "outputs": [],
   "source": []
  }
 ],
 "metadata": {
  "kernelspec": {
   "display_name": "Python 3 (ipykernel)",
   "language": "python",
   "name": "python3"
  },
  "language_info": {
   "codemirror_mode": {
    "name": "ipython",
    "version": 3
   },
   "file_extension": ".py",
   "mimetype": "text/x-python",
   "name": "python",
   "nbconvert_exporter": "python",
   "pygments_lexer": "ipython3",
   "version": "3.11.0"
  }
 },
 "nbformat": 4,
 "nbformat_minor": 2
}
